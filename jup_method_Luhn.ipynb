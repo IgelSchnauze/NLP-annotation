{
 "cells": [
  {
   "cell_type": "code",
   "execution_count": 25,
   "id": "published-collar",
   "metadata": {},
   "outputs": [],
   "source": [
    "import numpy as np\n",
    "import pickle\n",
    "from tqdm.auto import tqdm"
   ]
  },
  {
   "cell_type": "code",
   "execution_count": 31,
   "id": "light-hacker",
   "metadata": {},
   "outputs": [],
   "source": [
    "def choose_most_freq_words(bag_of_words):\n",
    "    freq = bag_of_words.sum(axis=0)  # count frequency every word\n",
    "    sort_freq_index = np.argsort(freq)\n",
    "    top_words_index = sort_freq_index[-int(len(freq) / 10):]  # 10% most freq words\n",
    "    return top_words_index"
   ]
  },
  {
   "cell_type": "code",
   "execution_count": 28,
   "id": "academic-spectacular",
   "metadata": {},
   "outputs": [],
   "source": [
    "def count_range_sentences(bag_of_words, top_words_index):\n",
    "    sent_range_list = []\n",
    "    for i, sent in enumerate(bag_of_words):  # take word-index string\n",
    "        use_words_index = np.nonzero(sent)  \n",
    "        words_count = len(use_words_index)\n",
    "        top_words_count = len(np.intersect1d(top_words_index, use_words_index))\n",
    "\n",
    "        sent_range = (top_words_count ** 2) / words_count\n",
    "        sent_range_list.append(sent_range)\n",
    "    return sent_range_list"
   ]
  },
  {
   "cell_type": "code",
   "execution_count": 27,
   "id": "written-overall",
   "metadata": {},
   "outputs": [],
   "source": [
    "def choose_sent_for_summ(sent_range_list, y_sent_count):\n",
    "    sort_sent_range = np.argsort(sent_range_list)\n",
    "    # 10% most important sentences in right order\n",
    "#     sent_for_summ_index = np.sort(sort_sent_range[-int(len(sent_range_list) * 0.1):])\n",
    "\n",
    "    # Y_sent_count most important sentences in right order\n",
    "    sent_for_summ_index = np.sort(sort_sent_range[-y_sent_count:]) \n",
    "    return sent_for_summ_index"
   ]
  },
  {
   "cell_type": "markdown",
   "id": "finnish-teens",
   "metadata": {},
   "source": [
    "###Main"
   ]
  },
  {
   "cell_type": "code",
   "execution_count": 32,
   "id": "tired-factory",
   "metadata": {},
   "outputs": [],
   "source": [
    "with open('X_tfidf_texts_test.pickle', 'rb') as f:\n",
    "    X_tfidf_texts_test = pickle.load(f) # sparce matrix\n",
    "with open('count_sent_in_text_Y_test.pickle', 'rb') as f:\n",
    "    count_sent_in_text_Y_test = pickle.load(f)"
   ]
  },
  {
   "cell_type": "code",
   "execution_count": 33,
   "id": "diverse-credits",
   "metadata": {},
   "outputs": [
    {
     "data": {
      "application/vnd.jupyter.widget-view+json": {
       "model_id": "7636066d340846ed8aac100665c221fd",
       "version_major": 2,
       "version_minor": 0
      },
      "text/plain": [
       "0it [00:00, ?it/s]"
      ]
     },
     "metadata": {},
     "output_type": "display_data"
    },
    {
     "name": "stdout",
     "output_type": "stream",
     "text": [
      "[13 17]\n",
      "[ 6 11 15 26]\n",
      "[ 1 10 23]\n",
      "[10 29 30]\n",
      "[4 5 6]\n",
      "[ 0  4  9 35]\n",
      "[13 16 26]\n",
      "[ 7 11 14]\n",
      "[ 7 23 31 33]\n",
      "[ 1 11 19]\n",
      "[ 2 21]\n",
      "[7]\n"
     ]
    }
   ],
   "source": [
    "all_sent_for_summ_index = []\n",
    "\n",
    "for i, tfidf_text in tqdm(enumerate(X_tfidf_texts_test)):\n",
    "    tfidf_text = tfidf_text.toarray()\n",
    "    \n",
    "    top_words_index = choose_most_freq_words(tfidf_text)\n",
    "    sent_range_list = count_range_sentences(tfidf_text, top_words_index)\n",
    "    sent_for_summ_index = choose_sent_for_summ(sent_range_list, count_sent_in_text_Y_test[i])\n",
    "    all_sent_for_summ_index.append(sent_for_summ_index)\n",
    "    \n",
    "    if i%500==0:\n",
    "        print(sent_for_summ_index)"
   ]
  },
  {
   "cell_type": "code",
   "execution_count": 30,
   "id": "authentic-engineering",
   "metadata": {},
   "outputs": [
    {
     "name": "stderr",
     "output_type": "stream",
     "text": [
      "<ipython-input-30-ccd5d94aea61>:2: VisibleDeprecationWarning: Creating an ndarray from ragged nested sequences (which is a list-or-tuple of lists-or-tuples-or ndarrays with different lengths or shapes) is deprecated. If you meant to do this, you must specify 'dtype=object' when creating the ndarray\n",
      "  pickle.dump(np.array(all_sent_for_summ_index), f)\n"
     ]
    }
   ],
   "source": [
    "with open('luhn_index_sent_for_summ_X_test.pickle', 'wb') as f:\n",
    "    pickle.dump(np.array(all_sent_for_summ_index), f)"
   ]
  }
 ],
 "metadata": {
  "kernelspec": {
   "display_name": "Python 3",
   "language": "python",
   "name": "python3"
  },
  "language_info": {
   "codemirror_mode": {
    "name": "ipython",
    "version": 3
   },
   "file_extension": ".py",
   "mimetype": "text/x-python",
   "name": "python",
   "nbconvert_exporter": "python",
   "pygments_lexer": "ipython3",
   "version": "3.8.5"
  }
 },
 "nbformat": 4,
 "nbformat_minor": 5
}
