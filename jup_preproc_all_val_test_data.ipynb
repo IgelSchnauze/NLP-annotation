{
 "cells": [
  {
   "cell_type": "code",
   "execution_count": 1,
   "id": "suspended-utilization",
   "metadata": {},
   "outputs": [],
   "source": [
    "import json\n",
    "import pickle\n",
    "# from string import punctuation\n",
    "import re\n",
    "import numpy as np\n",
    "\n",
    "import nltk\n",
    "from nltk.corpus import stopwords\n",
    "from pymystem3 import Mystem\n",
    "from sklearn.feature_extraction.text import TfidfVectorizer\n",
    "from tqdm.auto import tqdm"
   ]
  },
  {
   "cell_type": "code",
   "execution_count": 2,
   "id": "chubby-injection",
   "metadata": {},
   "outputs": [],
   "source": [
    "def unpack(file):\n",
    "    with open(file, \"r\", encoding='utf-8') as f:\n",
    "        json_list = list(f)\n",
    "\n",
    "    all_news_text_X = []\n",
    "    all_news_summ_Y = []\n",
    "    for i, str in enumerate(json_list):\n",
    "        one_news = json.loads(str)\n",
    "        del one_news['url']\n",
    "        del one_news['title']\n",
    "        del one_news['date']\n",
    "        all_news_text_X.append(one_news['text'])\n",
    "        all_news_summ_Y.append(one_news['summary'])\n",
    "    return all_news_text_X, all_news_summ_Y"
   ]
  },
  {
   "cell_type": "code",
   "execution_count": 3,
   "id": "portable-louis",
   "metadata": {},
   "outputs": [],
   "source": [
    "def spliting_list(list, delimiter):\n",
    "    splitted = [[]]\n",
    "    for lemma in list:\n",
    "        if lemma == delimiter:\n",
    "            splitted.append([])\n",
    "        else:\n",
    "            splitted[-1].append(lemma)\n",
    "    return splitted"
   ]
  },
  {
   "cell_type": "code",
   "execution_count": 4,
   "id": "stuffed-school",
   "metadata": {},
   "outputs": [],
   "source": [
    "def preprocess(text_str, punctuation_re):\n",
    "    mystem = Mystem()\n",
    "    rus_stopwords = stopwords.words(\"russian\")\n",
    "\n",
    "    text_lemmas = mystem.lemmatize(text_str.lower())\n",
    "    text_lemmas = [punctuation_re.sub('', lemma) for lemma in text_lemmas ] # удаляю все кроме букв и цифр\n",
    "    text_lemmas = [lemma for lemma in text_lemmas if lemma.strip() != '' and lemma not in rus_stopwords]\n",
    "\n",
    "    return text_lemmas"
   ]
  },
  {
   "cell_type": "code",
   "execution_count": 2,
   "id": "patient-detector",
   "metadata": {},
   "outputs": [],
   "source": [
    "def tfidf_bag_words(all_sent_list, train_vocabulary):\n",
    "    tf_vectorizer = TfidfVectorizer(vocabulary = train_vocabulary)\n",
    "\n",
    "    all_sent_str = [\" \".join(one_sent_list) for one_sent_list in all_sent_list]  # список из предложений=строк\n",
    "    bag_of_words = tf_vectorizer.fit_transform(all_sent_str)\n",
    "    return bag_of_words"
   ]
  },
  {
   "cell_type": "code",
   "execution_count": 6,
   "id": "sized-packaging",
   "metadata": {},
   "outputs": [],
   "source": [
    "def score(vec_X, vec_Y):\n",
    "    # count angle between center vectors\n",
    "    vec_X_unit = (vec_X / np.linalg.norm(vec_X)) if np.linalg.norm(vec_X) != 0 else np.zeros(vec_X.shape)\n",
    "    vec_Y_unit = (vec_Y / np.linalg.norm(vec_Y)) if np.linalg.norm(vec_Y) != 0 else np.zeros(vec_Y.shape)\n",
    "    angles = np.arccos(np.clip(np.dot(vec_X_unit, vec_Y_unit), -1.0, 1.0))\n",
    "    # привожу [0 - хорошо, pi/2 - плохо] к [0 - плохо, 1 - хорошо]\n",
    "    score_01 = 1 - (angles / (np.pi/2))\n",
    "    return score_01"
   ]
  },
  {
   "cell_type": "markdown",
   "id": "agricultural-princeton",
   "metadata": {},
   "source": [
    "##MAIN"
   ]
  },
  {
   "cell_type": "code",
   "execution_count": 7,
   "id": "parliamentary-sympathy",
   "metadata": {},
   "outputs": [],
   "source": [
    "all_news_text_X, all_news_summ_Y = unpack(\n",
    "        'C:/Users/Acer/PycharmProjects/ML_NLP_course3/gazeta_jsonl/gazeta_test.jsonl')\n",
    "# my_punctuation = punctuation + '–' + '—' + '«' + '»' + '», —' + '%, ' + '» — ' + ': «' + '» (' + '), ' + ', «'\n",
    "punctuation_re = re.compile('[^a-zA-Zа-яА-Я0-9]+')"
   ]
  },
  {
   "cell_type": "code",
   "execution_count": 8,
   "id": "polar-substitute",
   "metadata": {},
   "outputs": [
    {
     "name": "stdout",
     "output_type": "stream",
     "text": [
      "1000\n",
      "2000\n",
      "3000\n",
      "4000\n",
      "5000\n",
      "5770\n"
     ]
    },
    {
     "name": "stderr",
     "output_type": "stream",
     "text": [
      "<ipython-input-8-a716af331362>:35: VisibleDeprecationWarning: Creating an ndarray from ragged nested sequences (which is a list-or-tuple of lists-or-tuples-or ndarrays with different lengths or shapes) is deprecated. If you meant to do this, you must specify 'dtype=object' when creating the ndarray\n",
      "  all_preproc_sent_text_X = np.array(all_preproc_sent_text_X)\n"
     ]
    }
   ],
   "source": [
    "all_preproc_sent_text_X = []\n",
    "count_sent_in_text_X = []\n",
    "pack_size = 1000\n",
    "start_ind = 0  # to count start new 1000 text pack\n",
    "while start_ind < len(all_news_text_X):\n",
    "#     # временное ограничение!!!!\n",
    "#     if start_ind >= 6:\n",
    "#         break\n",
    "    \n",
    "    # join and preprocessing\n",
    "    pack_list_for_preproc = []\n",
    "    end_ind = start_ind + pack_size\n",
    "    if end_ind > len(all_news_text_X):\n",
    "        end_ind = len(all_news_text_X)\n",
    "        \n",
    "    for i in range(start_ind, end_ind):\n",
    "        sentences = nltk.sent_tokenize(all_news_text_X[i])\n",
    "        count_sent_in_text_X.append(len(sentences))\n",
    "        pack_list_for_preproc.append(' bbreakk '.join(sentences))  # between sentences 'bbreakk'\n",
    "    pack_str_for_preproc = ' bbreakk '.join(pack_list_for_preproc)\n",
    "    pack_lemmas = preprocess(pack_str_for_preproc, punctuation_re)\n",
    "\n",
    "    # split\n",
    "    preproc_sentences = spliting_list(pack_lemmas, 'bbreakk') # список из предложений=строк\n",
    "    all_preproc_sent_text_X.extend(preproc_sentences)\n",
    "    \n",
    "    start_ind += pack_size\n",
    "    print(end_ind)\n",
    "    \n",
    "    if sum(count_sent_in_text_X) != len(all_preproc_sent_text_X):\n",
    "        print('error')\n",
    "        break\n",
    "    \n",
    "count_sent_in_text_X = np.array(count_sent_in_text_X)    \n",
    "all_preproc_sent_text_X = np.array(all_preproc_sent_text_X)"
   ]
  },
  {
   "cell_type": "code",
   "execution_count": 9,
   "id": "hazardous-columbia",
   "metadata": {},
   "outputs": [],
   "source": [
    "with open('all_preproc_sent_X_test.pickle', 'wb') as f:\n",
    "    pickle.dump(all_preproc_sent_text_X, f)\n",
    "with open('count_sent_in_text_X_test.pickle', 'wb') as f:\n",
    "    pickle.dump(count_sent_in_text_X, f)"
   ]
  },
  {
   "cell_type": "code",
   "execution_count": 10,
   "id": "attended-violation",
   "metadata": {},
   "outputs": [
    {
     "name": "stdout",
     "output_type": "stream",
     "text": [
      "1000\n",
      "2000\n",
      "3000\n",
      "4000\n",
      "5000\n",
      "5770\n"
     ]
    },
    {
     "name": "stderr",
     "output_type": "stream",
     "text": [
      "<ipython-input-10-f753ab528768>:32: VisibleDeprecationWarning: Creating an ndarray from ragged nested sequences (which is a list-or-tuple of lists-or-tuples-or ndarrays with different lengths or shapes) is deprecated. If you meant to do this, you must specify 'dtype=object' when creating the ndarray\n",
      "  all_preproc_sent_summ_Y = np.array(all_preproc_sent_summ_Y)\n"
     ]
    }
   ],
   "source": [
    "all_preproc_sent_summ_Y = []\n",
    "count_sent_in_summ_Y = []\n",
    "pack_size = 1000\n",
    "start_ind = 0  # to count start new 1000 text pack\n",
    "while start_ind < len(all_news_summ_Y):\n",
    "    \n",
    "    # join and preprocessing\n",
    "    pack_list_for_preproc = []\n",
    "    end_ind = start_ind + pack_size\n",
    "    if end_ind > len(all_news_summ_Y):\n",
    "        end_ind = len(all_news_summ_Y)\n",
    "        \n",
    "    for i in range(start_ind, end_ind):\n",
    "        sentences = nltk.sent_tokenize(all_news_summ_Y[i])\n",
    "        count_sent_in_summ_Y.append(len(sentences))\n",
    "        pack_list_for_preproc.append(' bbreakk '.join(sentences))  # between sentences '<break>'\n",
    "    pack_str_for_preproc = ' bbreakk '.join(pack_list_for_preproc)\n",
    "    pack_lemmas = preprocess(pack_str_for_preproc, punctuation_re)\n",
    "\n",
    "    # split\n",
    "    preproc_sentences = spliting_list(pack_lemmas, 'bbreakk') # список из предложений=строк\n",
    "    all_preproc_sent_summ_Y.extend(preproc_sentences)\n",
    "    \n",
    "    start_ind += pack_size\n",
    "    print(end_ind)\n",
    "    \n",
    "    if sum(count_sent_in_summ_Y) != len(all_preproc_sent_summ_Y):\n",
    "        print('error')\n",
    "        break\n",
    "    \n",
    "count_sent_in_summ_Y = np.array(count_sent_in_summ_Y)    \n",
    "all_preproc_sent_summ_Y = np.array(all_preproc_sent_summ_Y)"
   ]
  },
  {
   "cell_type": "code",
   "execution_count": 11,
   "id": "artistic-symposium",
   "metadata": {},
   "outputs": [],
   "source": [
    "with open('all_preproc_sent_Y_test.pickle', 'wb') as f:\n",
    "    pickle.dump(all_preproc_sent_summ_Y, f)\n",
    "with open('count_sent_in_summ_Y_test.pickle', 'wb') as f:\n",
    "    pickle.dump(count_sent_in_summ_Y, f)"
   ]
  },
  {
   "cell_type": "code",
   "execution_count": 12,
   "id": "employed-bride",
   "metadata": {},
   "outputs": [],
   "source": [
    "# разложение предложений по мешку слов train\n",
    "\n",
    "with open('Vocabulary.pickle', 'rb') as f:\n",
    "    vocabulary = pickle.load(f)"
   ]
  },
  {
   "cell_type": "code",
   "execution_count": 13,
   "id": "engaged-amber",
   "metadata": {},
   "outputs": [],
   "source": [
    "tfidf_X_val = tfidf_bag_words(all_preproc_sent_text_X, vocabulary)\n",
    "tfidf_Y_val = tfidf_bag_words(all_preproc_sent_summ_Y, vocabulary)\n",
    "# print(sum(tfidf_X_val[2]), len(tfidf_X_val[2]))"
   ]
  },
  {
   "cell_type": "code",
   "execution_count": 14,
   "id": "southern-subscription",
   "metadata": {},
   "outputs": [],
   "source": [
    "# разделить предложения по текстам\n",
    "tfidf_X_val_texts = []\n",
    "tfidf_Y_val_texts = []\n",
    "already_taked = 0\n",
    "for count in count_sent_in_text_X:\n",
    "    tfidf_X_val_texts.append(tfidf_X_val[already_taked:already_taked + count])\n",
    "    already_taked += count\n",
    "already_taked = 0\n",
    "for count in count_sent_in_summ_Y:\n",
    "    tfidf_Y_val_texts.append(tfidf_Y_val[already_taked:already_taked + count])\n",
    "    already_taked += count"
   ]
  },
  {
   "cell_type": "code",
   "execution_count": 15,
   "id": "subtle-foster",
   "metadata": {},
   "outputs": [
    {
     "data": {
      "application/vnd.jupyter.widget-view+json": {
       "model_id": "c5d6a22be8884198ba353307c50e6bef",
       "version_major": 2,
       "version_minor": 0
      },
      "text/plain": [
       "  0%|          | 0/5770 [00:00<?, ?it/s]"
      ]
     },
     "metadata": {},
     "output_type": "display_data"
    }
   ],
   "source": [
    "'''\n",
    "посчитать score для каждого предложения\n",
    "сравнить каждое предложение с каждым предложением из аннотации, выбрать минимальный score\n",
    "'''\n",
    "score_all_sent = []\n",
    "for text_index in tqdm(range(len(tfidf_X_val_texts))):\n",
    "    sentences_X = tfidf_X_val_texts[text_index].toarray()\n",
    "    sentences_Y = tfidf_Y_val_texts[text_index].toarray()\n",
    "    for vec_x in sentences_X:\n",
    "        best_min_score = np.min([score(vec_x, vec_y) for vec_y in sentences_Y])\n",
    "        score_all_sent.append(best_min_score)\n",
    "score_all_sent = np.array(score_all_sent)"
   ]
  },
  {
   "cell_type": "code",
   "execution_count": 16,
   "id": "drawn-novelty",
   "metadata": {},
   "outputs": [
    {
     "name": "stdout",
     "output_type": "stream",
     "text": [
      "217689\n",
      "35637\n"
     ]
    }
   ],
   "source": [
    "print(len(np.array(score_all_sent)))\n",
    "print(sum(np.array(score_all_sent) != 0))"
   ]
  },
  {
   "cell_type": "code",
   "execution_count": 17,
   "id": "sacred-amino",
   "metadata": {},
   "outputs": [],
   "source": [
    "with open('X_out_test.pickle', 'wb') as f:\n",
    "    # отправляем список предложений набора Х, не разделенных на тексты, для модели\n",
    "    # !!! не toarray(), а sparce matrix\n",
    "    pickle.dump(tfidf_X_val, f) \n",
    "with open('Y_out_test.pickle', 'wb') as f:\n",
    "    pickle.dump(score_all_sent, f)"
   ]
  }
 ],
 "metadata": {
  "kernelspec": {
   "display_name": "Python 3",
   "language": "python",
   "name": "python3"
  },
  "language_info": {
   "codemirror_mode": {
    "name": "ipython",
    "version": 3
   },
   "file_extension": ".py",
   "mimetype": "text/x-python",
   "name": "python",
   "nbconvert_exporter": "python",
   "pygments_lexer": "ipython3",
   "version": "3.8.5"
  }
 },
 "nbformat": 4,
 "nbformat_minor": 5
}
