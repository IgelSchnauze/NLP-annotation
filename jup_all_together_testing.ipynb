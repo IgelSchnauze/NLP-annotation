{
 "cells": [
  {
   "cell_type": "code",
   "execution_count": null,
   "id": "pressed-vampire",
   "metadata": {},
   "outputs": [],
   "source": [
    "import json\n",
    "import pickle\n",
    "import numpy as np\n",
    "import nltk\n",
    "from tqdm.auto import tqdm"
   ]
  },
  {
   "cell_type": "code",
   "execution_count": null,
   "id": "corporate-secret",
   "metadata": {},
   "outputs": [],
   "source": [
    "def load_from(pickle_file):\n",
    "    # аналогично функции из модуля работы с методами\n",
    "\n",
    "def unpack(file):\n",
    "    # аналогично функции из модуля предоброботки\n",
    "\n",
    "def score_compare_sent(vec_X, vec_Y):\n",
    "    # аналогично функции из модуля предоброботки\n",
    "\n",
    "# подсчет оценок каждого предложения и затем общей оценки каждого текста\n",
    "def calc_best_scores_texts(index_sent_for_summ, X_tfidf_texts_test, Y_tfidf_texts_test):\n",
    "    index_sent_for_summ = np.array(index_sent_for_summ)\n",
    "    all_best_scores_text = [] \n",
    "    \n",
    "    for text_i in tqdm(range(len(X_tfidf_texts_test))):\n",
    "        sent_X = X_tfidf_texts_test[text_i].toarray()\n",
    "        sent_for_summ_predict = sent_X[index_sent_for_summ[text_i]]\n",
    "        sent_for_summ_real = Y_tfidf_texts_test[text_i].toarray()\n",
    "    \n",
    "        best_scores_sent_this_text = []\n",
    "        can_be_choosed_Y = np.zeros(len(sent_for_summ_real), dtype=bool)  # маска индексов Y , кот еще участвуют\n",
    "        for vec_x in sent_for_summ_predict:\n",
    "            all_scores = np.ma.array([score(vec_x, vec_y) for vec_y in sent_for_summ_real], mask=can_be_choosed_Y)\n",
    "            best_scores_sent_this_text.append(np.max(all_scores))\n",
    "            can_be_choosed_Y[np.argmax(all_scores)] = True\n",
    "        all_best_scores_text.append(np.sum(best_scores_sent_this_text)/len(best_scores_sent_this_text))           \n",
    "    return all_best_scores_text"
   ]
  },
  {
   "cell_type": "code",
   "execution_count": null,
   "id": "herbal-mystery",
   "metadata": {},
   "outputs": [],
   "source": [
    "if __name__ == '__main__':\n",
    "    Luhn_index_sent_for_summ = load_from('file_name.pickle')\n",
    "    Tree_index_sent_for_summ = load_from('file_name.pickle')\n",
    "    Cluster_index_sent_for_summ = load_from('file_name.pickle')\n",
    "    X_tfidf_texts_test = load_from('file_name.pickle')\n",
    "    Y_tfidf_texts_test = load_from('file_name.pickle')\n",
    "    \n",
    "    Luhn_all_best_scores_text = calc_best_scores_texts(\n",
    "        Luhn_index_sent_for_summ, X_tfidf_texts_test, Y_tfidf_texts_test\n",
    "    )\n",
    "    # Общая оценка метода\n",
    "    print(np.sum(all_best_scores_text_luhn)/len(all_best_scores_text_luhn))\n",
    "    # Максимальная оценка созданной методом аннотации \n",
    "    print(np.max(all_best_scores_text_luhn))\n",
    "    \n",
    "    # Tree_index_sent_for_summ и Cluster_index_sent_for_summ аналогично\n",
    "    "
   ]
  }
 ],
 "metadata": {
  "kernelspec": {
   "display_name": "Python 3",
   "language": "python",
   "name": "python3"
  },
  "language_info": {
   "codemirror_mode": {
    "name": "ipython",
    "version": 3
   },
   "file_extension": ".py",
   "mimetype": "text/x-python",
   "name": "python",
   "nbconvert_exporter": "python",
   "pygments_lexer": "ipython3",
   "version": "3.8.5"
  }
 },
 "nbformat": 4,
 "nbformat_minor": 5
}
